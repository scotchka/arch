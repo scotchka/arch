{
 "cells": [
  {
   "cell_type": "code",
   "execution_count": 1,
   "metadata": {},
   "outputs": [],
   "source": [
    "LOAD_WORD  = 0x01\n",
    "STORE_WORD = 0x02\n",
    "ADD        = 0x03\n",
    "SUB        = 0x04\n",
    "ADD_ONE    = 0x05 # second parameter unused\n",
    "HALT       = 0xff"
   ]
  },
  {
   "cell_type": "code",
   "execution_count": 2,
   "metadata": {},
   "outputs": [],
   "source": [
    "def from_twos(value, bits=16):\n",
    "    assert 0 <= value < 2 ** bits\n",
    "    if value < 2 ** bits / 2:\n",
    "        return value\n",
    "    else:\n",
    "        return value - 2 ** bits"
   ]
  },
  {
   "cell_type": "code",
   "execution_count": 3,
   "metadata": {},
   "outputs": [],
   "source": [
    "def to_twos(value, bits=16):\n",
    "    assert -2 ** bits / 2 <= value < 2 ** bits / 2\n",
    "    if value >= 0:\n",
    "        return value\n",
    "    else:\n",
    "        return 2 ** bits + value"
   ]
  },
  {
   "cell_type": "code",
   "execution_count": 4,
   "metadata": {},
   "outputs": [
    {
     "name": "stdout",
     "output_type": "stream",
     "text": [
      "0 0 0\n",
      "1 1 1\n",
      "2 2 2\n",
      "3 3 3\n",
      "4 -4 4\n",
      "5 -3 5\n",
      "6 -2 6\n",
      "7 -1 7\n"
     ]
    }
   ],
   "source": [
    "bits = 3\n",
    "for n in range(2**bits):\n",
    "    print(n, from_twos(n, bits), to_twos(from_twos(n, bits), bits))"
   ]
  },
  {
   "cell_type": "code",
   "execution_count": 5,
   "metadata": {},
   "outputs": [],
   "source": [
    "memory = bytearray(\n",
    "    [\n",
    "        0x01, 0x01, 0x10, # instructions\n",
    "        0x01, 0x02, 0x12,\n",
    "        0x04, 0x01, 0x02,\n",
    "        0x02, 0x01, 0x0e,\n",
    "        0xff,\n",
    "        0x00,             # reserved empty byte\n",
    "        0x00, 0x00,       # output\n",
    "        0xf4, 0xff,       # input 1\n",
    "        0x9c, 0xff        # input 2\n",
    "    ]\n",
    ")\n",
    "\n",
    "assert len(memory) == 20"
   ]
  },
  {
   "cell_type": "code",
   "execution_count": 6,
   "metadata": {},
   "outputs": [],
   "source": [
    "def run(memory):\n",
    "    registers = [0, 0, 0]\n",
    "    \n",
    "    print('input 1:', from_twos(memory[0x10] + 256 * memory[0x11]))\n",
    "    print('input 2:', from_twos(memory[0x12] + 256 * memory[0x13]))\n",
    "    \n",
    "    while True:\n",
    "        pc = registers[0]\n",
    "        instruction = memory[pc]\n",
    "        if instruction == HALT:\n",
    "            print('HALT')\n",
    "            break\n",
    "        elif instruction == LOAD_WORD:\n",
    "            print('LOAD')\n",
    "            r_idx = memory[pc + 1]\n",
    "            in_idx = memory[pc + 2]\n",
    "            registers[r_idx] = memory[in_idx] + 256 * memory[in_idx + 1]\n",
    "        elif instruction == STORE_WORD:\n",
    "            print('STORE')\n",
    "            r_idx = memory[pc + 1]\n",
    "            in_idx = memory[pc + 2]\n",
    "            value = registers[r_idx]\n",
    "            memory[in_idx] = value % 256\n",
    "            memory[in_idx + 1] = value // 256\n",
    "        elif instruction == ADD:\n",
    "            print('ADD')\n",
    "            left = memory[pc + 1]\n",
    "            right = memory[pc + 2]\n",
    "            registers[left] = to_twos(from_twos(registers[left]) + from_twos(registers[right]))\n",
    "        elif instruction == SUB:\n",
    "            print('SUB')\n",
    "            left = memory[pc + 1]\n",
    "            right = memory[pc + 2]\n",
    "            registers[left] = to_twos(from_twos(registers[left]) - from_twos(registers[right]))\n",
    "        elif instruction == ADD_ONE:\n",
    "            print('ADD ONE')\n",
    "            left = memory[pc + 1]\n",
    "            registers[left] = to_twos(from_twos(registers[left]) + 1)\n",
    "        else:\n",
    "            print('Should not get here.')\n",
    "            return\n",
    "\n",
    "        registers[0] += 3\n",
    "\n",
    "        print(memory, registers)\n",
    "\n",
    "\n",
    "    print('output', from_twos(memory[0x0e] + 256 * memory[0x0f]))"
   ]
  },
  {
   "cell_type": "code",
   "execution_count": 7,
   "metadata": {},
   "outputs": [
    {
     "name": "stdout",
     "output_type": "stream",
     "text": [
      "input 1: -12\n",
      "input 2: -100\n",
      "LOAD\n",
      "bytearray(b'\\x01\\x01\\x10\\x01\\x02\\x12\\x04\\x01\\x02\\x02\\x01\\x0e\\xff\\x00\\x00\\x00\\xf4\\xff\\x9c\\xff') [3, 65524, 0]\n",
      "LOAD\n",
      "bytearray(b'\\x01\\x01\\x10\\x01\\x02\\x12\\x04\\x01\\x02\\x02\\x01\\x0e\\xff\\x00\\x00\\x00\\xf4\\xff\\x9c\\xff') [6, 65524, 65436]\n",
      "SUB\n",
      "bytearray(b'\\x01\\x01\\x10\\x01\\x02\\x12\\x04\\x01\\x02\\x02\\x01\\x0e\\xff\\x00\\x00\\x00\\xf4\\xff\\x9c\\xff') [9, 88, 65436]\n",
      "STORE\n",
      "bytearray(b'\\x01\\x01\\x10\\x01\\x02\\x12\\x04\\x01\\x02\\x02\\x01\\x0e\\xff\\x00X\\x00\\xf4\\xff\\x9c\\xff') [12, 88, 65436]\n",
      "HALT\n",
      "output 88\n"
     ]
    }
   ],
   "source": [
    "run(memory)"
   ]
  },
  {
   "cell_type": "code",
   "execution_count": null,
   "metadata": {},
   "outputs": [],
   "source": []
  }
 ],
 "metadata": {
  "kernelspec": {
   "display_name": "Python 3",
   "language": "python",
   "name": "python3"
  },
  "language_info": {
   "codemirror_mode": {
    "name": "ipython",
    "version": 3
   },
   "file_extension": ".py",
   "mimetype": "text/x-python",
   "name": "python",
   "nbconvert_exporter": "python",
   "pygments_lexer": "ipython3",
   "version": "3.8.0"
  }
 },
 "nbformat": 4,
 "nbformat_minor": 2
}
