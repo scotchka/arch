{
 "cells": [
  {
   "cell_type": "code",
   "execution_count": 1,
   "metadata": {},
   "outputs": [],
   "source": [
    "LOAD_WORD  = 0x01\n",
    "STORE_WORD = 0x02\n",
    "ADD        = 0x03\n",
    "SUB        = 0x04\n",
    "ADD_ONE    = 0x05 # second parameter unused\n",
    "HALT       = 0xff"
   ]
  },
  {
   "cell_type": "code",
   "execution_count": 2,
   "metadata": {},
   "outputs": [],
   "source": [
    "memory = bytearray(\n",
    "    [\n",
    "        0x01, 0x01, 0x10, # instructions\n",
    "        0x01, 0x02, 0x12,\n",
    "        0x03, 0x01, 0x02,\n",
    "        0x02, 0x01, 0x0e,\n",
    "        0xff,\n",
    "        0x00,             # reserved empty byte\n",
    "        0x00, 0x00,       # output\n",
    "        0xa1, 0x14,       # input 1\n",
    "        0x0c, 0x00        # input 2\n",
    "    ]\n",
    ")\n",
    "\n",
    "assert len(memory) == 20"
   ]
  },
  {
   "cell_type": "code",
   "execution_count": 3,
   "metadata": {},
   "outputs": [],
   "source": [
    "def run(memory):\n",
    "    registers = [0, 0, 0]\n",
    "    \n",
    "    print('input 1:', memory[0x10] + 256 * memory[0x11])\n",
    "    print('input 2:', memory[0x12] + 256 * memory[0x13])\n",
    "    \n",
    "    while True:\n",
    "        pc = registers[0]\n",
    "        instruction = memory[pc]\n",
    "        if instruction == HALT:\n",
    "            print('halt')\n",
    "            break\n",
    "        elif instruction == LOAD_WORD:\n",
    "            print('load')\n",
    "            r_idx = memory[pc + 1]\n",
    "            in_idx = memory[pc + 2]\n",
    "            registers[r_idx] = memory[in_idx] + 256 * memory[in_idx + 1]\n",
    "        elif instruction == STORE_WORD:\n",
    "            print('store')\n",
    "            r_idx = memory[pc + 1]\n",
    "            in_idx = memory[pc + 2]\n",
    "            value = registers[r_idx]\n",
    "            memory[in_idx] = value % 256\n",
    "            memory[in_idx + 1] = value // 256\n",
    "        elif instruction == ADD:\n",
    "            print('add')\n",
    "            left = memory[pc + 1]\n",
    "            right = memory[pc + 2]\n",
    "            registers[left] += registers[right]\n",
    "        elif instruction == SUB:\n",
    "            print('sub')\n",
    "            left = memory[pc + 1]\n",
    "            right = memory[pc + 2]\n",
    "            registers[left] -= registers[right]\n",
    "        elif instruction == ADD_ONE:\n",
    "            left = memory[pc + 1]\n",
    "            registers[left] += 1\n",
    "        else:\n",
    "            print('Should not get here.')\n",
    "            return\n",
    "\n",
    "        registers[0] += 3\n",
    "\n",
    "        print(memory, registers)\n",
    "\n",
    "\n",
    "    print('output', memory[0x0e] + 256 * memory[0x0f])"
   ]
  },
  {
   "cell_type": "code",
   "execution_count": 4,
   "metadata": {},
   "outputs": [
    {
     "name": "stdout",
     "output_type": "stream",
     "text": [
      "input 1: 5281\n",
      "input 2: 12\n",
      "load\n",
      "bytearray(b'\\x01\\x01\\x10\\x01\\x02\\x12\\x03\\x01\\x02\\x02\\x01\\x0e\\xff\\x00\\x00\\x00\\xa1\\x14\\x0c\\x00') [3, 5281, 0]\n",
      "load\n",
      "bytearray(b'\\x01\\x01\\x10\\x01\\x02\\x12\\x03\\x01\\x02\\x02\\x01\\x0e\\xff\\x00\\x00\\x00\\xa1\\x14\\x0c\\x00') [6, 5281, 12]\n",
      "add\n",
      "bytearray(b'\\x01\\x01\\x10\\x01\\x02\\x12\\x03\\x01\\x02\\x02\\x01\\x0e\\xff\\x00\\x00\\x00\\xa1\\x14\\x0c\\x00') [9, 5293, 12]\n",
      "store\n",
      "bytearray(b'\\x01\\x01\\x10\\x01\\x02\\x12\\x03\\x01\\x02\\x02\\x01\\x0e\\xff\\x00\\xad\\x14\\xa1\\x14\\x0c\\x00') [12, 5293, 12]\n",
      "halt\n",
      "output 5293\n"
     ]
    }
   ],
   "source": [
    "run(memory)"
   ]
  },
  {
   "cell_type": "code",
   "execution_count": null,
   "metadata": {},
   "outputs": [],
   "source": []
  }
 ],
 "metadata": {
  "kernelspec": {
   "display_name": "Python 3",
   "language": "python",
   "name": "python3"
  },
  "language_info": {
   "codemirror_mode": {
    "name": "ipython",
    "version": 3
   },
   "file_extension": ".py",
   "mimetype": "text/x-python",
   "name": "python",
   "nbconvert_exporter": "python",
   "pygments_lexer": "ipython3",
   "version": "3.8.0"
  }
 },
 "nbformat": 4,
 "nbformat_minor": 2
}
