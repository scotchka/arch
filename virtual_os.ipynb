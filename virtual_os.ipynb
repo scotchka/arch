{
 "cells": [
  {
   "cell_type": "code",
   "execution_count": 8,
   "metadata": {},
   "outputs": [],
   "source": [
    "with open('add_255_3.vef','rb') as f:\n",
    "    program = f.read()"
   ]
  },
  {
   "cell_type": "code",
   "execution_count": 18,
   "metadata": {},
   "outputs": [
    {
     "data": {
      "text/plain": [
       "[(2, '0x2', '0b10'),\n",
       " (0, '0x0', '0b0'),\n",
       " (13, '0xd', '0b1101'),\n",
       " (0, '0x0', '0b0'),\n",
       " (142, '0x8e', '0b10001110'),\n",
       " (6, '0x6', '0b110'),\n",
       " (13, '0xd', '0b1101'),\n",
       " (1, '0x1', '0b1'),\n",
       " (1, '0x1', '0b1'),\n",
       " (16, '0x10', '0b10000'),\n",
       " (1, '0x1', '0b1'),\n",
       " (2, '0x2', '0b10'),\n",
       " (18, '0x12', '0b10010'),\n",
       " (3, '0x3', '0b11'),\n",
       " (1, '0x1', '0b1'),\n",
       " (2, '0x2', '0b10'),\n",
       " (2, '0x2', '0b10'),\n",
       " (1, '0x1', '0b1'),\n",
       " (14, '0xe', '0b1110'),\n",
       " (255, '0xff', '0b11111111'),\n",
       " (0, '0x0', '0b0'),\n",
       " (0, '0x0', '0b0'),\n",
       " (255, '0xff', '0b11111111'),\n",
       " (0, '0x0', '0b0'),\n",
       " (3, '0x3', '0b11'),\n",
       " (0, '0x0', '0b0')]"
      ]
     },
     "execution_count": 18,
     "metadata": {},
     "output_type": "execute_result"
    }
   ],
   "source": [
    "[(n, hex(n), bin(n)) for n in program]"
   ]
  },
  {
   "cell_type": "code",
   "execution_count": 89,
   "metadata": {},
   "outputs": [],
   "source": [
    "def parse_vef(program):\n",
    "\n",
    "    n_segments = program[0]\n",
    "    print(n_segments, 'segments')\n",
    "    print()\n",
    "    for i in range(n_segments):\n",
    "        type_address, length, location = program[1+3*i:4+3*i]\n",
    "#         print(type_address, length, location)\n",
    "        data = program[1+3*n_segments+location:1+3*n_segments+location+length]\n",
    "#         print(list(data))\n",
    "        segment_type = (type_address & 0b10000000) >> 7\n",
    "        mem_address = (type_address & 0b01111111)\n",
    "#         print(segment_type, mem_address)\n",
    "        print('segment type', segment_type)\n",
    "        print('mem address', mem_address)\n",
    "        print('length', length)\n",
    "        print('location', location)\n",
    "        print('data', data)\n",
    "        print()\n",
    "        "
   ]
  },
  {
   "cell_type": "code",
   "execution_count": 90,
   "metadata": {},
   "outputs": [
    {
     "name": "stdout",
     "output_type": "stream",
     "text": [
      "2 segments\n",
      "\n",
      "segment type 0\n",
      "mem address 0\n",
      "length 13\n",
      "location 0\n",
      "data b'\\x01\\x01\\x10\\x01\\x02\\x12\\x03\\x01\\x02\\x02\\x01\\x0e\\xff'\n",
      "\n",
      "segment type 1\n",
      "mem address 14\n",
      "length 6\n",
      "location 13\n",
      "data b'\\x00\\x00\\xff\\x00\\x03\\x00'\n",
      "\n"
     ]
    }
   ],
   "source": [
    "parse_vef(program)"
   ]
  },
  {
   "cell_type": "code",
   "execution_count": null,
   "metadata": {},
   "outputs": [],
   "source": []
  }
 ],
 "metadata": {
  "kernelspec": {
   "display_name": "Python 3",
   "language": "python",
   "name": "python3"
  },
  "language_info": {
   "codemirror_mode": {
    "name": "ipython",
    "version": 3
   },
   "file_extension": ".py",
   "mimetype": "text/x-python",
   "name": "python",
   "nbconvert_exporter": "python",
   "pygments_lexer": "ipython3",
   "version": "3.8.0"
  }
 },
 "nbformat": 4,
 "nbformat_minor": 2
}
